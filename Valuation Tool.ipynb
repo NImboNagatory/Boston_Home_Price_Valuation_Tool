{
 "cells": [
  {
   "cell_type": "code",
   "execution_count": 41,
   "metadata": {
    "collapsed": true
   },
   "outputs": [],
   "source": [
    "import pandas as pd\n",
    "import numpy as np\n",
    "from sklearn.linear_model import LinearRegression\n",
    "\n",
    "from sklearn.metrics import mean_squared_error"
   ]
  },
  {
   "cell_type": "code",
   "execution_count": 19,
   "outputs": [],
   "source": [
    "data_url = \"http://lib.stat.cmu.edu/datasets/boston\"\n",
    "raw_df = pd.read_csv(data_url, sep=\"\\s+\", skiprows=22, header=None)\n",
    "data = np.hstack([raw_df.values[::2, :], raw_df.values[1::2, :3]])\n",
    "bst_df = pd.DataFrame(data)\n",
    "bst_df = bst_df.rename(columns={0:'crime', 1:'zn', 2:'indus', 3:'chas', 4:'nox', 5:'rm', 6:'age', 7:'dis', 8:'rad', 9:'tax', 10:'pt_ratio', 11:'b', 12:'l_stat', 13:'price'})\n",
    "features = bst_df.drop(['age', 'indus', 'price'], axis=1)"
   ],
   "metadata": {
    "collapsed": false
   }
  },
  {
   "cell_type": "code",
   "execution_count": 22,
   "outputs": [],
   "source": [
    "log_prices = np.log(bst_df.price)\n",
    "target = pd.DataFrame(log_prices, columns=['price'])"
   ],
   "metadata": {
    "collapsed": false
   }
  },
  {
   "cell_type": "code",
   "execution_count": 49,
   "outputs": [],
   "source": [
    "crime_idx = 0\n",
    "zn_idx = 1\n",
    "chas_idx = 2\n",
    "rm_idx = 4\n",
    "pt_ratio = 8\n",
    "\n",
    "\n",
    "property_stats = features.mean().values.reshape(1, 11)"
   ],
   "metadata": {
    "collapsed": false
   }
  },
  {
   "cell_type": "code",
   "execution_count": 40,
   "outputs": [],
   "source": [
    "regr = LinearRegression().fit(features, target)\n",
    "fitted_vals = regr.predict(features)"
   ],
   "metadata": {
    "collapsed": false
   }
  },
  {
   "cell_type": "code",
   "execution_count": 47,
   "outputs": [],
   "source": [
    "mse = mean_squared_error(fitted_vals, target)\n",
    "rmse = np.sqrt(mse)"
   ],
   "metadata": {
    "collapsed": false
   }
  },
  {
   "cell_type": "code",
   "execution_count": 71,
   "outputs": [],
   "source": [
    "def get_log_est(nr_rooms, students_per_classroom, next_to_river=False, high_confidence=True):\n",
    "    property_stats[0][rm_idx] = nr_rooms\n",
    "    property_stats[0][pt_ratio] = students_per_classroom\n",
    "\n",
    "    if next_to_river:\n",
    "        property_stats[0][chas_idx] = 1\n",
    "    else:\n",
    "        property_stats[0][chas_idx] = 0\n",
    "\n",
    "    log_est = regr.predict(property_stats)\n",
    "\n",
    "    if high_confidence:\n",
    "        upper_bound = log_est + 2*rmse\n",
    "        lower_bound = log_est - 2*rmse\n",
    "        interval = 95\n",
    "    else:\n",
    "        upper_bound = log_est + rmse\n",
    "        lower_bound = log_est - rmse\n",
    "        interval = 68\n",
    "\n",
    "\n",
    "    return log_est[0][0], upper_bound[0][0], lower_bound[0][0], interval\n"
   ],
   "metadata": {
    "collapsed": false
   }
  },
  {
   "cell_type": "code",
   "execution_count": 85,
   "outputs": [],
   "source": [
    "zillow_median_price = 583.3\n",
    "scale_factor = zillow_median_price / np.median(bst_df.price)"
   ],
   "metadata": {
    "collapsed": false
   }
  },
  {
   "cell_type": "code",
   "execution_count": 91,
   "outputs": [],
   "source": [
    "def get_dolar_est(rm, ptratio, chas=False, large_range=True):\n",
    "    if rm < 1 or ptratio < 1:\n",
    "        return 'This is unrealistic! Try again'\n",
    "    log_est, upper_bound, lower_bound, interval = get_log_est(rm, ptratio, chas, large_range)\n",
    "\n",
    "    log_est = np.e**log_est * 1000 * scale_factor\n",
    "    upper_bound = np.e**upper_bound*1000*scale_factor\n",
    "    lower_bound = np.e**lower_bound*1000*scale_factor\n",
    "\n",
    "    rounded_log_est = np.round(log_est, -3)\n",
    "    rounded_upper_bound = np.round(upper_bound, -3)\n",
    "    rounded_lower_est = np.round(lower_bound, -3)\n",
    "\n",
    "    print(\"Price in Thousands\")\n",
    "    print(f\"Estimated Price: {rounded_log_est}\")\n",
    "    print(f\"Estimated upper bound Price: {rounded_upper_bound}\")\n",
    "    print(f\"Estimated lower bound Price: {rounded_lower_est}\")\n",
    "    print(f\"interval percentage: {(data[3])}%\")"
   ],
   "metadata": {
    "collapsed": false
   }
  },
  {
   "cell_type": "code",
   "execution_count": 92,
   "outputs": [
    {
     "data": {
      "text/plain": "'This is unrealistic! Try again'"
     },
     "execution_count": 92,
     "metadata": {},
     "output_type": "execute_result"
    }
   ],
   "source": [
    "get_dolar_est(0, 30, True)"
   ],
   "metadata": {
    "collapsed": false
   }
  }
 ],
 "metadata": {
  "kernelspec": {
   "display_name": "Python 3",
   "language": "python",
   "name": "python3"
  },
  "language_info": {
   "codemirror_mode": {
    "name": "ipython",
    "version": 2
   },
   "file_extension": ".py",
   "mimetype": "text/x-python",
   "name": "python",
   "nbconvert_exporter": "python",
   "pygments_lexer": "ipython2",
   "version": "2.7.6"
  }
 },
 "nbformat": 4,
 "nbformat_minor": 0
}
